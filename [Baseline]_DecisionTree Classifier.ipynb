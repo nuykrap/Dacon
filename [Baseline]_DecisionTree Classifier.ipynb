{
 "cells": [
  {
   "cell_type": "markdown",
   "metadata": {},
   "source": [
    "# 라이브러리 호출"
   ]
  },
  {
   "cell_type": "code",
   "execution_count": 1,
   "metadata": {},
   "outputs": [],
   "source": [
    "import pandas as pd\n",
    "import random\n",
    "import os\n",
    "import numpy as np\n",
    "\n",
    "from sklearn.tree import DecisionTreeClassifier\n",
    "\n",
    "# 한글깨짐\n",
    "from matplotlib import font_manager, rc\n",
    "font_path = \"C:/Windows/Fonts/NGULIM.TTF\"\n",
    "font = font_manager.FontProperties(fname=font_path).get_name()\n",
    "rc('font', family=font)"
   ]
  },
  {
   "cell_type": "code",
   "execution_count": 2,
   "metadata": {},
   "outputs": [
    {
     "name": "stderr",
     "output_type": "stream",
     "text": [
      "'sudo'은(는) 내부 또는 외부 명령, 실행할 수 있는 프로그램, 또는\n",
      "배치 파일이 아닙니다.\n"
     ]
    }
   ],
   "source": [
    "!sudo apt-get update"
   ]
  },
  {
   "cell_type": "code",
   "execution_count": 3,
   "metadata": {},
   "outputs": [
    {
     "name": "stderr",
     "output_type": "stream",
     "text": [
      "'sudo'은(는) 내부 또는 외부 명령, 실행할 수 있는 프로그램, 또는\n",
      "배치 파일이 아닙니다.\n"
     ]
    }
   ],
   "source": [
    "!sudo apt-get install gcc -y"
   ]
  },
  {
   "cell_type": "code",
   "execution_count": 4,
   "metadata": {},
   "outputs": [
    {
     "name": "stdout",
     "output_type": "stream",
     "text": [
      "Collecting autogluon\n",
      "  Using cached autogluon-0.7.0-py3-none-any.whl (9.7 kB)\n",
      "Collecting autogluon.features==0.7.0\n",
      "  Using cached autogluon.features-0.7.0-py3-none-any.whl (60 kB)\n"
     ]
    },
    {
     "name": "stderr",
     "output_type": "stream",
     "text": [
      "ERROR: Disabling PEP 517 processing is invalid: project specifies a build backend of setuptools.build_meta:__legacy__ in pyproject.toml\n"
     ]
    },
    {
     "name": "stdout",
     "output_type": "stream",
     "text": [
      "Collecting autogluon.timeseries[all]==0.7.0\n",
      "  Using cached autogluon.timeseries-0.7.0-py3-none-any.whl (108 kB)\n",
      "Collecting autogluon.multimodal==0.7.0\n",
      "  Using cached autogluon.multimodal-0.7.0-py3-none-any.whl (331 kB)\n",
      "Collecting autogluon.core[all]==0.7.0\n",
      "  Using cached autogluon.core-0.7.0-py3-none-any.whl (218 kB)\n",
      "Collecting autogluon.tabular[all]==0.7.0\n",
      "  Using cached autogluon.tabular-0.7.0-py3-none-any.whl (292 kB)\n",
      "Collecting autogluon.common==0.7.0\n",
      "  Using cached autogluon.common-0.7.0-py3-none-any.whl (45 kB)\n",
      "Collecting scikit-learn<1.3,>=1.0\n",
      "  Downloading scikit_learn-1.2.2-cp38-cp38-win_amd64.whl (8.3 MB)\n",
      "Collecting pandas<1.6,>=1.4.1\n",
      "  Using cached pandas-1.5.3-cp38-cp38-win_amd64.whl (11.0 MB)\n",
      "Collecting numpy<1.27,>=1.21\n",
      "  Using cached numpy-1.24.2-cp38-cp38-win_amd64.whl (14.9 MB)\n",
      "Collecting scipy<1.12,>=1.5.4\n",
      "  Using cached scipy-1.10.1-cp38-cp38-win_amd64.whl (42.2 MB)\n",
      "Requirement already satisfied: tqdm<5,>=4.38 in c:\\programdata\\anaconda3\\lib\\site-packages (from autogluon.timeseries[all]==0.7.0->autogluon) (4.50.2)\n",
      "Collecting statsmodels<0.14,>=0.13.0\n",
      "  Downloading statsmodels-0.13.5-cp38-cp38-win_amd64.whl (9.2 MB)\n",
      "Requirement already satisfied: networkx<3.0,>=2.3 in c:\\programdata\\anaconda3\\lib\\site-packages (from autogluon.timeseries[all]==0.7.0->autogluon) (2.5)\n",
      "Collecting pytorch-lightning<1.10.0,>=1.7.4\n",
      "  Using cached pytorch_lightning-1.9.4-py3-none-any.whl (827 kB)\n",
      "Requirement already satisfied: torch<1.14,>=1.9 in c:\\programdata\\anaconda3\\lib\\site-packages (from autogluon.timeseries[all]==0.7.0->autogluon) (1.13.1)\n",
      "Collecting joblib<2,>=1.1\n",
      "  Downloading joblib-1.2.0-py3-none-any.whl (297 kB)\n",
      "Collecting ujson<6,>=5\n",
      "  Downloading ujson-5.7.0-cp38-cp38-win_amd64.whl (41 kB)\n",
      "Collecting gluonts<0.13,>=0.12.0\n",
      "  Downloading gluonts-0.12.4-py3-none-any.whl (1.2 MB)\n",
      "Collecting statsforecast<1.5,>=1.4.0\n",
      "  Downloading statsforecast-1.4.0-py3-none-any.whl (91 kB)\n",
      "Collecting sktime<0.16,>=0.14; extra == \"all\"\n",
      "  Downloading sktime-0.15.1-py3-none-any.whl (16.0 MB)\n",
      "Collecting pmdarima<1.9,>=1.8.2; extra == \"all\"\n",
      "  Downloading pmdarima-1.8.5-cp38-cp38-win_amd64.whl (602 kB)\n",
      "Collecting tbats<2,>=1.1; extra == \"all\"\n",
      "  Downloading tbats-1.1.2-py3-none-any.whl (43 kB)\n",
      "Collecting tensorboard<3,>=2.9\n",
      "  Using cached tensorboard-2.12.0-py3-none-any.whl (5.6 MB)\n",
      "Collecting nptyping<2.5.0,>=1.4.4\n",
      "  Using cached nptyping-2.4.1-py3-none-any.whl (36 kB)\n",
      "Collecting jsonschema<4.18,>=4.14\n",
      "  Using cached jsonschema-4.17.3-py3-none-any.whl (90 kB)\n",
      "Collecting pytorch-metric-learning<2.0,>=1.3.0\n",
      "  Using cached pytorch_metric_learning-1.7.3-py3-none-any.whl (112 kB)\n",
      "Collecting defusedxml<0.7.2,>=0.7.1\n",
      "  Using cached defusedxml-0.7.1-py2.py3-none-any.whl (25 kB)\n",
      "Requirement already satisfied: torchvision<0.15.0 in c:\\programdata\\anaconda3\\lib\\site-packages (from autogluon.multimodal==0.7.0->autogluon) (0.14.1)\n",
      "Collecting omegaconf<2.3.0,>=2.1.1\n",
      "  Using cached omegaconf-2.2.3-py3-none-any.whl (79 kB)\n",
      "Collecting fairscale<0.4.14,>=0.4.5\n",
      "  Using cached fairscale-0.4.13.tar.gz (266 kB)\n"
     ]
    }
   ],
   "source": [
    "!pip install autogluon --no-use-pep517"
   ]
  },
  {
   "cell_type": "code",
   "execution_count": 5,
   "metadata": {},
   "outputs": [
    {
     "name": "stdout",
     "output_type": "stream",
     "text": [
      "Collecting package metadata (current_repodata.json): ...working... done\n",
      "Solving environment: ...working... done\n",
      "\n",
      "# All requested packages already installed.\n",
      "\n"
     ]
    },
    {
     "name": "stderr",
     "output_type": "stream",
     "text": [
      "\n",
      "\n",
      "==> WARNING: A newer version of conda exists. <==\n",
      "  current version: 4.10.1\n",
      "  latest version: 23.1.0\n",
      "\n",
      "Please update conda by running\n",
      "\n",
      "    $ conda update -n base -c defaults conda\n",
      "\n",
      "\n"
     ]
    }
   ],
   "source": [
    "!conda install Cython --y"
   ]
  },
  {
   "cell_type": "code",
   "execution_count": 6,
   "metadata": {},
   "outputs": [
    {
     "ename": "ModuleNotFoundError",
     "evalue": "No module named 'autogluon'",
     "output_type": "error",
     "traceback": [
      "\u001b[1;31m---------------------------------------------------------------------------\u001b[0m",
      "\u001b[1;31mModuleNotFoundError\u001b[0m                       Traceback (most recent call last)",
      "\u001b[1;32m<ipython-input-6-6654c8e92846>\u001b[0m in \u001b[0;36m<module>\u001b[1;34m\u001b[0m\n\u001b[0;32m      2\u001b[0m \u001b[1;33m\u001b[0m\u001b[0m\n\u001b[0;32m      3\u001b[0m \u001b[1;31m# 저희는 Tabular Data를 다루기 때문에 아래 라이브러리를 호출합니다.\u001b[0m\u001b[1;33m\u001b[0m\u001b[1;33m\u001b[0m\u001b[1;33m\u001b[0m\u001b[0m\n\u001b[1;32m----> 4\u001b[1;33m \u001b[1;32mfrom\u001b[0m \u001b[0mautogluon\u001b[0m\u001b[1;33m.\u001b[0m\u001b[0mtabular\u001b[0m \u001b[1;32mimport\u001b[0m \u001b[0mTabularDataset\u001b[0m\u001b[1;33m,\u001b[0m \u001b[0mTabularPredictor\u001b[0m\u001b[1;33m\u001b[0m\u001b[1;33m\u001b[0m\u001b[0m\n\u001b[0m",
      "\u001b[1;31mModuleNotFoundError\u001b[0m: No module named 'autogluon'"
     ]
    }
   ],
   "source": [
    "import pandas as pd\n",
    "\n",
    "# 저희는 Tabular Data를 다루기 때문에 아래 라이브러리를 호출합니다.\n",
    "from autogluon.tabular import TabularDataset, TabularPredictor"
   ]
  },
  {
   "cell_type": "markdown",
   "metadata": {},
   "source": [
    "# 시드(seed) 고정\n",
    "\n",
    "매번 고정된 결과를 얻기 위해서 사용합니다.  \n",
    "시드를 고정하지 않는다면 같은 코드라도 매번 다른 결과가 나올 수 있습니다.  \n",
    "항상 동일한 결과를 얻기 위해서 사용합니다."
   ]
  },
  {
   "cell_type": "code",
   "execution_count": null,
   "metadata": {},
   "outputs": [],
   "source": [
    "def seed_everything(seed):\n",
    "    random.seed(seed)\n",
    "    os.environ['PYTHONHASHSEED'] = str(seed)\n",
    "    np.random.seed(seed)\n",
    "\n",
    "seed_everything(42) # Seed 고정"
   ]
  },
  {
   "cell_type": "markdown",
   "metadata": {},
   "source": [
    "# 데이터 불러오기\n",
    "read_csv() 함수를 사용하여 데이터를 불러옵니다."
   ]
  },
  {
   "cell_type": "code",
   "execution_count": null,
   "metadata": {},
   "outputs": [],
   "source": [
    "train = pd.read_csv('./train.csv')\n",
    "test = pd.read_csv('./test.csv')"
   ]
  },
  {
   "cell_type": "code",
   "execution_count": null,
   "metadata": {},
   "outputs": [],
   "source": [
    "# train.csv 파일의 데이터를 확인합니다.\n",
    "train.head(3)"
   ]
  },
  {
   "cell_type": "markdown",
   "metadata": {},
   "source": [
    "# 독립변수(x_train), 종속변수(y_train)로 나누기  \n",
    "우리는 독립변수 데이터를 사용하여 종속변수를 예측하여야 합니다.  \n",
    "우리가 예측해야하는 종속변수는 '전화해지여부' 컬럼입니다.  \n",
    "따라서 종속변수를 y_train 변수에 할당하고 독립변수는 x_train 변수에 할당합니다.  \n",
    "\n",
    "ID는 모델이 종속변수를 예측할 때 도움이 되지 않으므로 해당 컬럼을 제거합니다."
   ]
  },
  {
   "cell_type": "code",
   "execution_count": null,
   "metadata": {},
   "outputs": [],
   "source": [
    "# 예측에 도움이 될 수 없는 ID 컬럼을 제거합니다.\n",
    "# x_train은 독립변수이므로 종속변수를 제거합니다.\n",
    "x_train = train.drop(['ID', '전화해지여부', '밤통화시간'], axis = 1)\n",
    "\n",
    "# y_train은 종속변수의 값을 설정해줍니다.\n",
    "y_train = train['전화해지여부']\n",
    "\n",
    "# test 데이터에서 예측에 도움이 될 수 없는 ID 컬럼을 제거합니다.\n",
    "test = test.drop(['ID', '밤통화시간'], axis = 1)"
   ]
  },
  {
   "cell_type": "markdown",
   "metadata": {},
   "source": [
    "전화해지여부 음수이면서 상관관계 낮은 거,\n",
    "vif 검증하기"
   ]
  },
  {
   "cell_type": "markdown",
   "metadata": {},
   "source": [
    "# 모델 정의  \n",
    "의사결정나무 모델을 사용하기 위해 모델을 정의합니다.  \n",
    "[의사결정나무 모델의 개념을 알고 싶다면 여기를 클릭해주세요.](https://dacon.io/competitions/open/235698/talkboard/403509?page=1&dtype=recent)"
   ]
  },
  {
   "cell_type": "code",
   "execution_count": null,
   "metadata": {},
   "outputs": [],
   "source": [
    "# 모델 인자에 random_state를 넣음으로써 시드고정의 효과를 얻을 수 있습니다.\n",
    "model = DecisionTreeClassifier(random_state = 42)"
   ]
  },
  {
   "cell_type": "markdown",
   "metadata": {},
   "source": [
    "# 모델 학습\n",
    "위에서 설정한 독립변수와 종속변수를 모델에 입력하면 학습을 수행할 수 있습니다."
   ]
  },
  {
   "cell_type": "code",
   "execution_count": null,
   "metadata": {},
   "outputs": [],
   "source": [
    "# fit() 함수는 모델을 데이터에 맞추겠다는 의미를 가지고 있습니다.\n",
    "model.fit(x_train, y_train)"
   ]
  },
  {
   "cell_type": "markdown",
   "metadata": {},
   "source": [
    "# 예측\n",
    "학습을 완료한 모델에 테스트 데이터를 입력하면 예측값을 얻을 수 있습니다."
   ]
  },
  {
   "cell_type": "code",
   "execution_count": null,
   "metadata": {},
   "outputs": [],
   "source": [
    "# predict() 함수는 독립변수(테스트데이터)를 입력받았을 때 종속변수를 예측합니다.\n",
    "pred = model.predict(test)"
   ]
  },
  {
   "cell_type": "markdown",
   "metadata": {},
   "source": [
    "#  파일 저장\n",
    "예측 결과를 제출하기 위해서 예측값을 제출 파일에 할당하고 저장합니다."
   ]
  },
  {
   "cell_type": "code",
   "execution_count": null,
   "metadata": {},
   "outputs": [],
   "source": [
    "# 제출 파일을 불러옵니다.\n",
    "submit = pd.read_csv('./sample_submission.csv')"
   ]
  },
  {
   "cell_type": "code",
   "execution_count": null,
   "metadata": {},
   "outputs": [],
   "source": [
    "# 예측한 값을 '전화해지여부' 컬럼에 할당합니다.\n",
    "submit['전화해지여부'] = pred\n",
    "submit.head()"
   ]
  },
  {
   "cell_type": "code",
   "execution_count": null,
   "metadata": {},
   "outputs": [],
   "source": [
    "# 예측한 파일을 저장합니다.\n",
    "submit.to_csv('./submit.csv', index = False)"
   ]
  },
  {
   "cell_type": "markdown",
   "metadata": {},
   "source": []
  }
 ],
 "metadata": {
  "kernelspec": {
   "display_name": "Python 3",
   "language": "python",
   "name": "python3"
  },
  "language_info": {
   "codemirror_mode": {
    "name": "ipython",
    "version": 3
   },
   "file_extension": ".py",
   "mimetype": "text/x-python",
   "name": "python",
   "nbconvert_exporter": "python",
   "pygments_lexer": "ipython3",
   "version": "3.8.5"
  },
  "toc": {
   "base_numbering": 1,
   "nav_menu": {},
   "number_sections": true,
   "sideBar": true,
   "skip_h1_title": false,
   "title_cell": "Table of Contents",
   "title_sidebar": "Contents",
   "toc_cell": false,
   "toc_position": {},
   "toc_section_display": true,
   "toc_window_display": false
  },
  "varInspector": {
   "cols": {
    "lenName": 16,
    "lenType": 16,
    "lenVar": 40
   },
   "kernels_config": {
    "python": {
     "delete_cmd_postfix": "",
     "delete_cmd_prefix": "del ",
     "library": "var_list.py",
     "varRefreshCmd": "print(var_dic_list())"
    },
    "r": {
     "delete_cmd_postfix": ") ",
     "delete_cmd_prefix": "rm(",
     "library": "var_list.r",
     "varRefreshCmd": "cat(var_dic_list()) "
    }
   },
   "types_to_exclude": [
    "module",
    "function",
    "builtin_function_or_method",
    "instance",
    "_Feature"
   ],
   "window_display": false
  }
 },
 "nbformat": 4,
 "nbformat_minor": 5
}
